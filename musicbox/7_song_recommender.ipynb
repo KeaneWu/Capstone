{
 "cells": [
  {
   "cell_type": "code",
   "execution_count": 84,
   "metadata": {},
   "outputs": [],
   "source": [
    "import numpy as np\n",
    "import pandas as pd\n",
    "from scipy import sparse\n",
    "from sklearn.metrics.pairwise import cosine_similarity\n",
    "from time import time\n",
    "import pyspark\n",
    "import pyspark.sql.functions as F"
   ]
  },
  {
   "cell_type": "code",
   "execution_count": 85,
   "metadata": {},
   "outputs": [],
   "source": [
    "# get the song list\n",
    "song_lst = spark.read.csv('../../../../../../data/play/play_song.csv', header=True).cache()"
   ]
  },
  {
   "cell_type": "code",
   "execution_count": 110,
   "metadata": {
    "scrolled": true
   },
   "outputs": [
    {
     "name": "stdout",
     "output_type": "stream",
     "text": [
      "+--------+---------+------------------+-----------+\n",
      "| song_id|song_type|         song_name|     singer|\n",
      "+--------+---------+------------------+-----------+\n",
      "|  298250|        0|     See You Again|Miley Cyrus|\n",
      "|21762903|        0|   电台情歌 (Live)|     莫文蔚|\n",
      "| 6661513|        0|            干物女|       囧菌|\n",
      "|21762903|        0|   电台情歌 (Live)|     莫文蔚|\n",
      "|16889394|        0|一人饮酒醉唯美翻唱|     沈雨萱|\n",
      "+--------+---------+------------------+-----------+\n",
      "only showing top 5 rows\n",
      "\n"
     ]
    }
   ],
   "source": [
    "song_lst.show(5)"
   ]
  },
  {
   "cell_type": "code",
   "execution_count": 2,
   "metadata": {},
   "outputs": [
    {
     "name": "stdout",
     "output_type": "stream",
     "text": [
      "/Users/zirongwu/DataScience/github\n"
     ]
    }
   ],
   "source": [
    "cd ~/DataScience/github"
   ]
  },
  {
   "cell_type": "code",
   "execution_count": 3,
   "metadata": {
    "scrolled": true
   },
   "outputs": [
    {
     "name": "stdout",
     "output_type": "stream",
     "text": [
      "4_feature_label_generation_with_spark-Copy1.ipynb\r\n",
      "5_train_model_sklearn.ipynb\r\n",
      "CapstoneProjectCode.py\r\n",
      "README.md\r\n",
      "Yelp_Dataset_-_Data_Preprocessing.ipynb\r\n",
      "Yelp_Dataset_-_NLP.ipynb\r\n",
      "df_play_rc.csv\r\n",
      "df_play_rc_fillna.csv\r\n",
      "df_play_rc_nt.csv\r\n"
     ]
    }
   ],
   "source": [
    "ls"
   ]
  },
  {
   "cell_type": "code",
   "execution_count": 4,
   "metadata": {
    "scrolled": true
   },
   "outputs": [
    {
     "name": "stderr",
     "output_type": "stream",
     "text": [
      "/Users/zirongwu/Documents/py3/py3/lib/python3.7/site-packages/IPython/core/interactiveshell.py:2785: DtypeWarning: Columns (1) have mixed types. Specify dtype option on import or set low_memory=False.\n",
      "  interactivity=interactivity, compiler=compiler, result=result)\n"
     ]
    }
   ],
   "source": [
    "df_play = pd.read_csv('df_play_rc.csv')"
   ]
  },
  {
   "cell_type": "code",
   "execution_count": 4,
   "metadata": {},
   "outputs": [],
   "source": [
    "df_play_nt = pd.read_csv('df_play_rc_nt.csv')"
   ]
  },
  {
   "cell_type": "code",
   "execution_count": 5,
   "metadata": {},
   "outputs": [
    {
     "name": "stdout",
     "output_type": "stream",
     "text": [
      "<class 'pandas.core.frame.DataFrame'>\n",
      "RangeIndex: 169423 entries, 0 to 169422\n",
      "Data columns (total 3 columns):\n",
      "uid                   169423 non-null int64\n",
      "song_id               169423 non-null int64\n",
      "count_song_over_90    169423 non-null int64\n",
      "dtypes: int64(3)\n",
      "memory usage: 3.9 MB\n"
     ]
    }
   ],
   "source": [
    "df_play_nt.info()"
   ]
  },
  {
   "cell_type": "code",
   "execution_count": 5,
   "metadata": {
    "scrolled": true
   },
   "outputs": [
    {
     "name": "stdout",
     "output_type": "stream",
     "text": [
      "<class 'pandas.core.frame.DataFrame'>\n",
      "RangeIndex: 317171 entries, 0 to 317170\n",
      "Data columns (total 3 columns):\n",
      "uid                   317171 non-null int64\n",
      "song_id               317171 non-null object\n",
      "count_song_over_80    317171 non-null int64\n",
      "dtypes: int64(2), object(1)\n",
      "memory usage: 7.3+ MB\n"
     ]
    }
   ],
   "source": [
    "df_play.info()"
   ]
  },
  {
   "cell_type": "code",
   "execution_count": 7,
   "metadata": {},
   "outputs": [],
   "source": [
    "# remap the uid and song id\n",
    "def new_ids(df, user_id, item_id):\n",
    "    # build up the user id dictionary and item id dictionary\n",
    "    user_id_list = df[user_id].unique()\n",
    "    item_id_list = df[item_id].unique()\n",
    "    user_id_dict = {v: k for k, v in enumerate(user_id_list)}\n",
    "    item_id_dict = {v: k for k, v in enumerate(item_id_list)}\n",
    "    df['uid_map'] = df.apply(lambda x: user_id_dict[x[user_id]], axis = 1)\n",
    "    df['itemid_map'] = df.apply(lambda x: item_id_dict[x[item_id]], axis = 1)\n",
    "    return df, user_id_dict, item_id_dict"
   ]
  },
  {
   "cell_type": "code",
   "execution_count": 8,
   "metadata": {},
   "outputs": [],
   "source": [
    "# get the sparse matrix\n",
    "def get_sparse_matrix(df, userid, item, value_col):\n",
    "    highest_user_id = df[userid].max()\n",
    "    highest_item_id = df[item].max()\n",
    "    df_as_matrix = sparse.lil_matrix((highest_user_id, highest_item_id))\n",
    "    for _, row in df.iterrows():\n",
    "        df_as_matrix[row[userid] - 1, row[item] - 1] = row[value_col]\n",
    "    return df_as_matrix"
   ]
  },
  {
   "cell_type": "code",
   "execution_count": 9,
   "metadata": {
    "scrolled": true
   },
   "outputs": [],
   "source": [
    "df_utility, uid_dict, songid_dict = \\\n",
    "                            new_ids(df_play_nt, user_id='uid', item_id='song_id')"
   ]
  },
  {
   "cell_type": "code",
   "execution_count": 10,
   "metadata": {},
   "outputs": [
    {
     "data": {
      "text/plain": [
       "(19921, 52482)"
      ]
     },
     "execution_count": 10,
     "metadata": {},
     "output_type": "execute_result"
    }
   ],
   "source": [
    "len(uid_dict), len(songid_dict)"
   ]
  },
  {
   "cell_type": "code",
   "execution_count": 11,
   "metadata": {
    "scrolled": true
   },
   "outputs": [
    {
     "name": "stdout",
     "output_type": "stream",
     "text": [
      "<class 'pandas.core.frame.DataFrame'>\n",
      "RangeIndex: 169423 entries, 0 to 169422\n",
      "Data columns (total 5 columns):\n",
      "uid                   169423 non-null int64\n",
      "song_id               169423 non-null int64\n",
      "count_song_over_90    169423 non-null int64\n",
      "uid_map               169423 non-null int64\n",
      "itemid_map            169423 non-null int64\n",
      "dtypes: int64(5)\n",
      "memory usage: 6.5 MB\n"
     ]
    }
   ],
   "source": [
    "df_utility.info()"
   ]
  },
  {
   "cell_type": "code",
   "execution_count": 58,
   "metadata": {},
   "outputs": [
    {
     "data": {
      "text/html": [
       "<div>\n",
       "<style scoped>\n",
       "    .dataframe tbody tr th:only-of-type {\n",
       "        vertical-align: middle;\n",
       "    }\n",
       "\n",
       "    .dataframe tbody tr th {\n",
       "        vertical-align: top;\n",
       "    }\n",
       "\n",
       "    .dataframe thead th {\n",
       "        text-align: right;\n",
       "    }\n",
       "</style>\n",
       "<table border=\"1\" class=\"dataframe\">\n",
       "  <thead>\n",
       "    <tr style=\"text-align: right;\">\n",
       "      <th></th>\n",
       "      <th>uid</th>\n",
       "      <th>song_id</th>\n",
       "      <th>count_song_over_90</th>\n",
       "      <th>uid_map</th>\n",
       "      <th>itemid_map</th>\n",
       "    </tr>\n",
       "  </thead>\n",
       "  <tbody>\n",
       "    <tr>\n",
       "      <th>0</th>\n",
       "      <td>168554187</td>\n",
       "      <td>6610601</td>\n",
       "      <td>6</td>\n",
       "      <td>0</td>\n",
       "      <td>0</td>\n",
       "    </tr>\n",
       "    <tr>\n",
       "      <th>1</th>\n",
       "      <td>168551752</td>\n",
       "      <td>74423</td>\n",
       "      <td>8</td>\n",
       "      <td>1</td>\n",
       "      <td>1</td>\n",
       "    </tr>\n",
       "    <tr>\n",
       "      <th>2</th>\n",
       "      <td>26841661</td>\n",
       "      <td>20273752</td>\n",
       "      <td>28</td>\n",
       "      <td>2</td>\n",
       "      <td>2</td>\n",
       "    </tr>\n",
       "    <tr>\n",
       "      <th>3</th>\n",
       "      <td>168546723</td>\n",
       "      <td>15216419</td>\n",
       "      <td>5</td>\n",
       "      <td>3</td>\n",
       "      <td>3</td>\n",
       "    </tr>\n",
       "    <tr>\n",
       "      <th>4</th>\n",
       "      <td>161870838</td>\n",
       "      <td>3214833</td>\n",
       "      <td>10</td>\n",
       "      <td>4</td>\n",
       "      <td>4</td>\n",
       "    </tr>\n",
       "  </tbody>\n",
       "</table>\n",
       "</div>"
      ],
      "text/plain": [
       "         uid   song_id  count_song_over_90  uid_map  itemid_map\n",
       "0  168554187   6610601                   6        0           0\n",
       "1  168551752     74423                   8        1           1\n",
       "2   26841661  20273752                  28        2           2\n",
       "3  168546723  15216419                   5        3           3\n",
       "4  161870838   3214833                  10        4           4"
      ]
     },
     "execution_count": 58,
     "metadata": {},
     "output_type": "execute_result"
    }
   ],
   "source": [
    "df_utility.head()"
   ]
  },
  {
   "cell_type": "code",
   "execution_count": 70,
   "metadata": {},
   "outputs": [],
   "source": [
    "# Popularity Recommender\n",
    "# recommend n most popular songs\n",
    "n = 10\n",
    "df_pop = df_utility.groupby('song_id').agg({'count_song_over_90': sum})\n",
    "\n",
    "top_n_pop = df_pop.sort_values('count_song_over_90', ascending=False)[:10].index.tolist()"
   ]
  },
  {
   "cell_type": "code",
   "execution_count": 88,
   "metadata": {
    "scrolled": true
   },
   "outputs": [
    {
     "name": "stdout",
     "output_type": "stream",
     "text": [
      "+---------------------------------+--------------+\n",
      "|                        song_name|        singer|\n",
      "+---------------------------------+--------------+\n",
      "|                   一人有一个梦想|        黎瑞恩|\n",
      "| 铃声多多_领音车载 Dj音少-够叼...|      未知歌手|\n",
      "|铃声多多_六月枫宇辰寐加岛 - 不...|      未知歌手|\n",
      "|                           逍遥叹|          胡歌|\n",
      "|                       Dark Horse|Katy Perry&Tee|\n",
      "+---------------------------------+--------------+\n",
      "only showing top 5 rows\n",
      "\n"
     ]
    }
   ],
   "source": [
    "song_lst.where(F.col('song_id').isin(top_n_pop)).select(['song_name', 'singer']).show(5)"
   ]
  },
  {
   "cell_type": "code",
   "execution_count": 12,
   "metadata": {
    "scrolled": false
   },
   "outputs": [],
   "source": [
    "count_mat = get_sparse_matrix(df_utility, userid='uid_map', item='itemid_map', \\\n",
    "                              value_col='count_song_over_90')"
   ]
  },
  {
   "cell_type": "code",
   "execution_count": 13,
   "metadata": {},
   "outputs": [
    {
     "data": {
      "text/plain": [
       "<19920x52481 sparse matrix of type '<class 'numpy.float64'>'\n",
       "\twith 169422 stored elements in LInked List format>"
      ]
     },
     "execution_count": 13,
     "metadata": {},
     "output_type": "execute_result"
    }
   ],
   "source": [
    "count_mat"
   ]
  },
  {
   "cell_type": "markdown",
   "metadata": {},
   "source": [
    "# Item-Item Simialrity recommender"
   ]
  },
  {
   "cell_type": "code",
   "execution_count": 14,
   "metadata": {},
   "outputs": [],
   "source": [
    "# Item-Item similarity matrix\n",
    "item_sim_mat = cosine_similarity(count_mat.T)"
   ]
  },
  {
   "cell_type": "code",
   "execution_count": 15,
   "metadata": {},
   "outputs": [],
   "source": [
    "least_to_most_sim_indexes = np.argsort(item_sim_mat, axis = 1)\n",
    "\n",
    "# set up the neighborhoods\n",
    "neighborhood_size = 10\n",
    "neighborhoods = least_to_most_sim_indexes[:, -neighborhood_size:]"
   ]
  },
  {
   "cell_type": "code",
   "execution_count": 16,
   "metadata": {},
   "outputs": [],
   "source": [
    "# make a prediction for one user\n",
    "user_id = 408"
   ]
  },
  {
   "cell_type": "code",
   "execution_count": 18,
   "metadata": {},
   "outputs": [],
   "source": [
    "n_users = count_mat.shape[0]\n",
    "n_items = count_mat.shape[1]\n",
    "\n",
    "start_time = time()\n",
    "items_rated_by_this_user = count_mat[user_id].nonzero()[1]"
   ]
  },
  {
   "cell_type": "code",
   "execution_count": 19,
   "metadata": {},
   "outputs": [
    {
     "data": {
      "text/plain": [
       "array([  362,  2172,  5030,  7472, 21796, 28947, 29445, 34777, 36124,\n",
       "       36571, 37004, 41885, 41993, 42497, 45637, 48046, 48391, 48746],\n",
       "      dtype=int32)"
      ]
     },
     "execution_count": 19,
     "metadata": {},
     "output_type": "execute_result"
    }
   ],
   "source": [
    "items_rated_by_this_user"
   ]
  },
  {
   "cell_type": "code",
   "execution_count": 20,
   "metadata": {},
   "outputs": [
    {
     "name": "stderr",
     "output_type": "stream",
     "text": [
      "/Users/zirongwu/Documents/py3/py3/lib/python3.7/site-packages/ipykernel_launcher.py:6: RuntimeWarning: invalid value encountered in true_divide\n",
      "  \n"
     ]
    }
   ],
   "source": [
    "out = np.zeros(n_items)\n",
    "for item_to_rate in range(n_items):\n",
    "    relevant_items = np.intersect1d(neighborhoods[item_to_rate],\n",
    "                                   items_rated_by_this_user,\n",
    "                                   assume_unique=True)\n",
    "    out[item_to_rate] = count_mat[user_id, relevant_items] * \\\n",
    "        item_sim_mat[item_to_rate, relevant_items] / \\\n",
    "        item_sim_mat[item_to_rate, relevant_items].sum()"
   ]
  },
  {
   "cell_type": "code",
   "execution_count": 21,
   "metadata": {},
   "outputs": [
    {
     "name": "stdout",
     "output_type": "stream",
     "text": [
      "[0. 0. 0. ... 0. 0. 0.]\n"
     ]
    }
   ],
   "source": [
    "pred_count = np.nan_to_num(out)\n",
    "print(pred_count)"
   ]
  },
  {
   "cell_type": "code",
   "execution_count": 27,
   "metadata": {},
   "outputs": [],
   "source": [
    "# get final recommendation\n",
    "# recommend n songs\n",
    "n = 5\n",
    "\n",
    "# get the item indexes sorted by predicted count\n",
    "item_index_sorted_by_pred_count = list(np.argsort(pred_count))[::-1]\n",
    "\n",
    "# find items that have been rated by user\n",
    "items_rated_by_this_user = count_mat[user_id].nonzero()[1]"
   ]
  },
  {
   "cell_type": "code",
   "execution_count": 30,
   "metadata": {},
   "outputs": [
    {
     "data": {
      "text/plain": [
       "[743, 7519, 13105, 36596, 30291]"
      ]
     },
     "execution_count": 30,
     "metadata": {},
     "output_type": "execute_result"
    }
   ],
   "source": [
    "# exclude the items that have been played by user\n",
    "uncount_items_by_pred_play = [item for item in item_index_sorted_by_pred_count \\\n",
    "                             if item not in items_rated_by_this_user]\n",
    "uncount_items_by_pred_play[:n]"
   ]
  },
  {
   "cell_type": "code",
   "execution_count": 115,
   "metadata": {},
   "outputs": [],
   "source": [
    "song_id_top_n = uncount_items_by_pred_play[:n]\n",
    "reco_song_lst = []\n",
    "for i in song_id_top_n:\n",
    "    reco_song_lst.append(df_utility[df_utility.itemid_map == i]['song_id'].unique()[0])"
   ]
  },
  {
   "cell_type": "code",
   "execution_count": 120,
   "metadata": {
    "scrolled": true
   },
   "outputs": [
    {
     "name": "stdout",
     "output_type": "stream",
     "text": [
      "song ids: [10609428, 324243, 673427, 6654421, 23155909, 13764870, 22800816, 9999059, 165582, 3434055]\n",
      "+--------+----------------------------------+---------------+\n",
      "| song_id|                         song_name|         singer|\n",
      "+--------+----------------------------------+---------------+\n",
      "| 9999059|                       玫瑰 (Live)|         张婧懿|\n",
      "| 6654421|就是喜欢你-(电影《泡上美女总裁3...|     萌萌哒天团|\n",
      "| 3434055|                    It&apos;s Time|Imagine Dragons|\n",
      "|  165582|                            ??????|      ?????????|\n",
      "|  165582|                              花火|         梁咏琪|\n",
      "|22800816|                              冰雨|         刘德华|\n",
      "|  673427|              I Can't Stop My L...|       动漫原声|\n",
      "|  324243|                      蒲公英的约定|         周杰伦|\n",
      "|10609428|                        一千零一夜|         邰正宵|\n",
      "|23155909|    5D唯美360°环绕-最美旋律超好...|       一人众天|\n",
      "|13764870|                    思思念念全是你|      高安,沁思|\n",
      "| 3434055|                         It's Time|Imagine Dragons|\n",
      "+--------+----------------------------------+---------------+\n",
      "\n"
     ]
    }
   ],
   "source": [
    "# reset the list itme datatype\n",
    "reco_song_lst = list(map(int, reco_song_lst))\n",
    "print('song ids: %s' %(reco_song_lst))\n",
    "song_lst.where(F.col('song_id').isin(reco_song_lst)).select(['song_id', 'song_name', 'singer']).distinct().show(20)\n"
   ]
  },
  {
   "cell_type": "markdown",
   "metadata": {},
   "source": [
    "# Matrix Factorization recommender"
   ]
  },
  {
   "cell_type": "code",
   "execution_count": 33,
   "metadata": {},
   "outputs": [],
   "source": [
    "from sklearn.decomposition import NMF\n",
    "\n",
    "def fit_nmf(Matrix, n_comps):\n",
    "    nmf = NMF(n_components=n_comps, random_state = 42)\n",
    "    nmf.fit(Matrix)\n",
    "    W = nmf.transform(Matrix)\n",
    "    H = nmf.components_\n",
    "    err = nmf.reconstruction_err_\n",
    "    return W, H, err"
   ]
  },
  {
   "cell_type": "code",
   "execution_count": 37,
   "metadata": {},
   "outputs": [
    {
     "name": "stdout",
     "output_type": "stream",
     "text": [
      "Shape of W: (19920, 300), \n",
      ", Shape of H: (300, 52481), \n",
      ", Error: 6103.1165007503205\n"
     ]
    }
   ],
   "source": [
    "W, H, error = fit_nmf(count_mat, 300)\n",
    "print('Shape of W: %s, \\n, Shape of H: %s, \\n, Error: %s' %(W.shape, H.shape, error))"
   ]
  },
  {
   "cell_type": "code",
   "execution_count": 40,
   "metadata": {},
   "outputs": [
    {
     "data": {
      "text/plain": [
       "(19920, 52481)"
      ]
     },
     "execution_count": 40,
     "metadata": {},
     "output_type": "execute_result"
    }
   ],
   "source": [
    "count_mat.shape"
   ]
  },
  {
   "cell_type": "code",
   "execution_count": 38,
   "metadata": {},
   "outputs": [],
   "source": [
    "count_mat_nmf = W.dot(H)\n",
    "\n",
    "errors = np.array((count_mat - count_mat_nmf).flatten()).squeeze()\n",
    "\n",
    "mask = np.array((count_mat.todense()).flatten()).squeeze()>0\n",
    "\n",
    "mse = np.mean(errors[mask]**2)\n",
    "avg_abs_err = abs(errors[mask]).mean()"
   ]
  },
  {
   "cell_type": "code",
   "execution_count": 53,
   "metadata": {},
   "outputs": [
    {
     "name": "stdout",
     "output_type": "stream",
     "text": [
      "MSE: 208.7202707959006, avg abs errors: 9.359638864917365\n"
     ]
    }
   ],
   "source": [
    "print('MSE: %s, avg abs errors: %s' %(mse, avg_abs_err))"
   ]
  },
  {
   "cell_type": "code",
   "execution_count": 55,
   "metadata": {},
   "outputs": [
    {
     "data": {
      "text/plain": [
       "[2014, 2300, 14771, 9740, 1702, 367, 4988, 803, 1612, 9702]"
      ]
     },
     "execution_count": 55,
     "metadata": {},
     "output_type": "execute_result"
    }
   ],
   "source": [
    "# get recommendations for one user\n",
    "user_id = 408\n",
    "n = 10\n",
    "\n",
    "pred_count = count_mat_nmf[user_id, :]\n",
    "item_index_sorted_by_pred_count = list(np.argsort(pred_count))[::-1]\n",
    "\n",
    "items_count_by_this_user = count_mat[user_id].nonzero()[1]\n",
    "\n",
    "unplayed_item_by_pred_count = [i for i in item_index_sorted_by_pred_count \\\n",
    "                              if i not in items_count_by_this_user]\n",
    "\n",
    "unplayed_item_by_pred_count[:n]"
   ]
  },
  {
   "cell_type": "code",
   "execution_count": 121,
   "metadata": {},
   "outputs": [],
   "source": [
    "song_id_top_n_nmf = unplayed_item_by_pred_count[:n]\n",
    "reco_song_lst_nmf = []\n",
    "for i in song_id_top_n_nmf:\n",
    "    reco_song_lst_nmf.append(df_utility[df_utility.itemid_map == i]['song_id'].unique()[0])"
   ]
  },
  {
   "cell_type": "code",
   "execution_count": 134,
   "metadata": {},
   "outputs": [
    {
     "name": "stdout",
     "output_type": "stream",
     "text": [
      "Recommendations for userid: 167611991\n",
      "+-------+---------------+------------------------+\n",
      "|song_id|      song_name|                  singer|\n",
      "+-------+---------------+------------------------+\n",
      "| 363402|       擦肩而过|                  宇桐非|\n",
      "| 317514|        My Girl|                 BIGBANG|\n",
      "| 313033|       三万英尺|                迪克牛仔|\n",
      "|3400250|???????????????|            ????????????|\n",
      "|3400250|     伤爱的理由|                上官晓懿|\n",
      "|3034115|     一亿个伤心|                  蒙面哥|\n",
      "|9871699|      吉米,来吧|谭晶[尖耳朵的阿凡达妹妹]|\n",
      "|6449273|         ??????|               ?????????|\n",
      "|9871699|      吉米 来吧|谭晶[尖耳朵的阿凡达妹妹]|\n",
      "|6449273|           绅士|                  薛之谦|\n",
      "|1104408|       第一夫人|                    张杰|\n",
      "|6529417|         萌萌哒|              萌萌哒天团|\n",
      "|2280171|       专属天使|                    群星|\n",
      "|6449273|           绅士|                    绅士|\n",
      "+-------+---------------+------------------------+\n",
      "\n"
     ]
    }
   ],
   "source": [
    "reco_song_lst_nmf = map(int, reco_song_lst_nmf)\n",
    "userid = df_utility[df_utility.uid_map == user_id].uid.unique()[0]\n",
    "\n",
    "# reset the list itme datatype\n",
    "reco_song_lst_nmf = list(map(int, reco_song_lst_nmf))\n",
    "print('Recommendations for userid: %s' %(userid))\n",
    "#print('song ids: %s' %(reco_song_lst_nmf))\n",
    "song_lst.where(F.col('song_id').isin(reco_song_lst_nmf)).select(['song_id', 'song_name', 'singer']).distinct().show(20)"
   ]
  },
  {
   "cell_type": "markdown",
   "metadata": {},
   "source": [
    "# Pyspark ALS"
   ]
  },
  {
   "cell_type": "code",
   "execution_count": 135,
   "metadata": {},
   "outputs": [],
   "source": [
    "from pyspark.ml.evaluation import RegressionEvaluator\n",
    "from pyspark.ml.recommendation import ALS"
   ]
  },
  {
   "cell_type": "code",
   "execution_count": 141,
   "metadata": {},
   "outputs": [],
   "source": [
    "df_als_pd = spark.createDataFrame(df_utility)"
   ]
  },
  {
   "cell_type": "code",
   "execution_count": 142,
   "metadata": {},
   "outputs": [
    {
     "name": "stdout",
     "output_type": "stream",
     "text": [
      "root\n",
      " |-- uid: long (nullable = true)\n",
      " |-- song_id: long (nullable = true)\n",
      " |-- count_song_over_90: long (nullable = true)\n",
      " |-- uid_map: long (nullable = true)\n",
      " |-- itemid_map: long (nullable = true)\n",
      "\n"
     ]
    }
   ],
   "source": [
    "df_als_pd.printSchema()"
   ]
  },
  {
   "cell_type": "code",
   "execution_count": 136,
   "metadata": {},
   "outputs": [],
   "source": [
    "df_als = spark.read.csv('/Users/zirongwu/DataScience/github/df_play_rc_nt.csv', header=True).cache()"
   ]
  },
  {
   "cell_type": "code",
   "execution_count": 138,
   "metadata": {},
   "outputs": [],
   "source": [
    "df_als = df_als.withColumn('play_count', F.col('count_song_over_90').cast('int'))"
   ]
  },
  {
   "cell_type": "code",
   "execution_count": 144,
   "metadata": {},
   "outputs": [],
   "source": [
    "# split the train and test data\n",
    "(train, test) = df_als_pd.randomSplit([0.8, 0.2], seed = 42)"
   ]
  },
  {
   "cell_type": "code",
   "execution_count": 146,
   "metadata": {},
   "outputs": [],
   "source": [
    "# build the recommedation model using ALS on the training data\n",
    "als = ALS(maxIter=5, regParam=0.01, userCol='uid', itemCol='song_id', ratingCol='count_song_over_90',\\\n",
    "          coldStartStrategy='drop')\n",
    "model = als.fit(train)"
   ]
  },
  {
   "cell_type": "code",
   "execution_count": 147,
   "metadata": {},
   "outputs": [
    {
     "name": "stdout",
     "output_type": "stream",
     "text": [
      "RMSE = 72.19790062513691\n"
     ]
    }
   ],
   "source": [
    "# evaluate the model by computing the RMSE on the test data\n",
    "pred = model.transform(test)\n",
    "evaluator = RegressionEvaluator(metricName='rmse', labelCol='count_song_over_90', predictionCol='prediction')\n",
    "rmse = evaluator.evaluate(pred)\n",
    "print('RMSE = %s' %(rmse))"
   ]
  },
  {
   "cell_type": "code",
   "execution_count": 148,
   "metadata": {},
   "outputs": [
    {
     "name": "stdout",
     "output_type": "stream",
     "text": [
      "Recommendation for top 10 users: DataFrame[uid: int, recommendations: array<struct<song_id:int,rating:float>>]\n",
      "DataFrame[song_id: int, recommendations: array<struct<uid:int,rating:float>>]\n"
     ]
    }
   ],
   "source": [
    "# generate top 10 recommendations\n",
    "userrc = model.recommendForAllUsers(10)\n",
    "songrc = model.recommendForAllItems(10)"
   ]
  },
  {
   "cell_type": "code",
   "execution_count": 150,
   "metadata": {},
   "outputs": [
    {
     "name": "stdout",
     "output_type": "stream",
     "text": [
      "+---------+--------------------+\n",
      "|      uid|     recommendations|\n",
      "+---------+--------------------+\n",
      "|167630570|[[4652672, 5276.9...|\n",
      "|168001770|[[4652672, 640.63...|\n",
      "|168325610|[[4652672, 227.05...|\n",
      "|168682030|[[4319581, 114.26...|\n",
      "|168691740|[[4652672, 290.95...|\n",
      "|168768770|[[4319581, 307.26...|\n",
      "|168872440|[[4319581, 1536.3...|\n",
      "|167738411|[[4194111, 502.47...|\n",
      "|167857011|[[4652672, 184.41...|\n",
      "|168461051|[[4652672, 139.69...|\n",
      "|168579111|[[4652672, 627.64...|\n",
      "|168751041|[[4652672, 240.87...|\n",
      "|168775641|[[4284080, 373.73...|\n",
      "| 87772572|[[4652672, 1545.1...|\n",
      "|167670172|[[4319581, 197.42...|\n",
      "|167735352|[[4652672, 3256.7...|\n",
      "|167788732|[[4652672, 391.75...|\n",
      "|167793682|[[4652672, 1536.9...|\n",
      "|167822962|[[4284080, 1924.5...|\n",
      "|167870462|[[4410466, 251.94...|\n",
      "+---------+--------------------+\n",
      "only showing top 20 rows\n",
      "\n"
     ]
    }
   ],
   "source": [
    "userrc.show()"
   ]
  },
  {
   "cell_type": "code",
   "execution_count": 151,
   "metadata": {},
   "outputs": [
    {
     "name": "stdout",
     "output_type": "stream",
     "text": [
      "+-------+--------------------+\n",
      "|song_id|     recommendations|\n",
      "+-------+--------------------+\n",
      "|  89385|[[168710826, 102....|\n",
      "| 104656|[[168391863, 362....|\n",
      "| 109172|[[167903213, 237....|\n",
      "| 110081|[[168391863, 186....|\n",
      "| 110904|[[168391863, 103....|\n",
      "| 118989|[[168576842, 2136...|\n",
      "| 130003|[[168275343, 175....|\n",
      "| 133948|[[168239582, 704....|\n",
      "| 156296|[[168391863, 45.0...|\n",
      "| 156365|[[168508050, 558....|\n",
      "| 197258|[[168485439, 435....|\n",
      "| 200878|[[168485439, 505....|\n",
      "| 223021|[[167903213, 137....|\n",
      "| 235318|[[168485439, 1056...|\n",
      "| 237810|[[168239582, 1073...|\n",
      "| 255362|[[168391863, 125....|\n",
      "| 291764|[[168239582, 273....|\n",
      "| 294870|[[168485439, 429....|\n",
      "| 298862|[[168064494, 284....|\n",
      "| 324155|[[168576842, 326....|\n",
      "+-------+--------------------+\n",
      "only showing top 20 rows\n",
      "\n"
     ]
    }
   ],
   "source": [
    "songrc.show()"
   ]
  },
  {
   "cell_type": "code",
   "execution_count": 168,
   "metadata": {},
   "outputs": [],
   "source": [
    "userec = userrc.filter(F.col('uid') == 167630570).select(F.col('recommendations')).collect()[0].asDict('song_id')"
   ]
  },
  {
   "cell_type": "code",
   "execution_count": 170,
   "metadata": {},
   "outputs": [
    {
     "data": {
      "text/plain": [
       "dict"
      ]
     },
     "execution_count": 170,
     "metadata": {},
     "output_type": "execute_result"
    }
   ],
   "source": [
    "type(userec)"
   ]
  },
  {
   "cell_type": "code",
   "execution_count": null,
   "metadata": {},
   "outputs": [],
   "source": []
  }
 ],
 "metadata": {
  "kernelspec": {
   "display_name": "Python 3",
   "language": "python",
   "name": "python3"
  },
  "language_info": {
   "codemirror_mode": {
    "name": "ipython",
    "version": 3
   },
   "file_extension": ".py",
   "mimetype": "text/x-python",
   "name": "python",
   "nbconvert_exporter": "python",
   "pygments_lexer": "ipython3",
   "version": "3.7.0"
  }
 },
 "nbformat": 4,
 "nbformat_minor": 2
}
